{
 "cells": [
  {
   "cell_type": "code",
   "execution_count": 1,
   "id": "e1b39b1e-0767-4555-9e8c-0a89bee47158",
   "metadata": {},
   "outputs": [],
   "source": [
    "import os\n",
    "import f90nml\n",
    "import pandas as pd\n",
    "import subprocess\n",
    "import sys"
   ]
  },
  {
   "cell_type": "code",
   "execution_count": 2,
   "id": "fd8c442f-235e-41b5-943d-feb357d5803e",
   "metadata": {},
   "outputs": [],
   "source": [
    "sys.path.insert(0,os.path.join(os.getcwd(),'Crop_parameters'))"
   ]
  },
  {
   "cell_type": "code",
   "execution_count": 3,
   "id": "adf1bdf8-d588-4757-a850-331540cad66a",
   "metadata": {},
   "outputs": [],
   "source": [
    "import Uncompress\n",
    "import Crop_parameters\n",
    "import Compress_ecosg"
   ]
  },
  {
   "cell_type": "code",
   "execution_count": 4,
   "id": "a0602d62-46f9-47b3-8037-ced84a50aaff",
   "metadata": {},
   "outputs": [],
   "source": [
    "input_ecosgcoverpath='/data/gbessardon/ECOCLIMAP-SG/COVER/ecosg_final_map.dir'\n",
    "output_path='Cropped_cover'\n",
    "xmin=-90\n",
    "xmax=90\n",
    "ymin=-60\n",
    "ymax=80"
   ]
  },
  {
   "cell_type": "code",
   "execution_count": 5,
   "id": "bb293470-94ff-4d0f-90e2-8ab511ea63ed",
   "metadata": {},
   "outputs": [],
   "source": [
    "(dictp,dictecosg,outfn,fnlink)=Compress_ecosg.Create_readable_ecosg_cover(input_ecosgcoverpath)\n",
    "Crop_parameters.Crop_data(fnlink,output_path,xmin, ymin, xmax, ymax)\n",
    "outhdr=os.path.join(os.getcwd(),output_path,outfn.split('/')[-1])\n",
    "Compress_ecosg.create_ecosgcoverhdr(outhdr,outhdr)\n",
    "os.unlink(fnlink)\n",
    "os.remove(outfn)\n",
    "os.remove(outhdr.replace('.hdr','.dir.aux.xml'))"
   ]
  }
 ],
 "metadata": {
  "kernelspec": {
   "display_name": "Python 3 (ipykernel)",
   "language": "python",
   "name": "python3"
  },
  "language_info": {
   "codemirror_mode": {
    "name": "ipython",
    "version": 3
   },
   "file_extension": ".py",
   "mimetype": "text/x-python",
   "name": "python",
   "nbconvert_exporter": "python",
   "pygments_lexer": "ipython3",
   "version": "3.9.6"
  }
 },
 "nbformat": 4,
 "nbformat_minor": 5
}
