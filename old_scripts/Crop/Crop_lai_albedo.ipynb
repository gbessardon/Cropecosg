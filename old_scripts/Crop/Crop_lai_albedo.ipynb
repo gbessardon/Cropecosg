{
 "cells": [
  {
   "cell_type": "code",
   "execution_count": 1,
   "id": "3e52795f-aaa1-45c1-bae2-de343219a8a4",
   "metadata": {},
   "outputs": [],
   "source": [
    "import gdal\n",
    "import os"
   ]
  },
  {
   "cell_type": "markdown",
   "id": "de34d534-af64-4fc2-bc13-0bd8c1661c96",
   "metadata": {},
   "source": [
    "# Declare user inputs"
   ]
  },
  {
   "cell_type": "markdown",
   "id": "cf60f5ba-9dae-41d0-ba12-35bd5726df7e",
   "metadata": {},
   "source": [
    "## Declare the ECOSG original path"
   ]
  },
  {
   "cell_type": "code",
   "execution_count": 2,
   "id": "d65d5d32-be4e-43fd-8012-bf2aefe14c37",
   "metadata": {},
   "outputs": [],
   "source": [
    "input_dir='/data/gbessardon/Crop_ecosg/Uncompress/Uncompressed_LAI'\n",
    "output_dir='Chunked_LAI'"
   ]
  },
  {
   "cell_type": "markdown",
   "id": "18f83dd7-6292-4d74-8c92-a07b070b8f3c",
   "metadata": {},
   "source": [
    "## Declare new bounds"
   ]
  },
  {
   "cell_type": "code",
   "execution_count": 3,
   "id": "b4fdd6ba-00b6-46be-b117-32281d5ebd6a",
   "metadata": {},
   "outputs": [],
   "source": [
    "xmin=-180\n",
    "xmax=180\n",
    "ymin=0\n",
    "ymax=90"
   ]
  },
  {
   "cell_type": "markdown",
   "id": "8eb48b82-33c8-4f09-923b-78e79d2fe949",
   "metadata": {},
   "source": [
    "# Declare functions"
   ]
  },
  {
   "cell_type": "markdown",
   "id": "c190b13c-2e74-4266-b76c-fd7d00c88e33",
   "metadata": {},
   "source": [
    "## Function to Create the outputdir"
   ]
  },
  {
   "cell_type": "code",
   "execution_count": 4,
   "id": "7cc36f63-1640-40be-ab8b-267eb0c4e856",
   "metadata": {},
   "outputs": [],
   "source": [
    "def Createoutputdir(outputdir):\n",
    "    outpath=os.path.join(os.getcwd(),outputdir)\n",
    "    if not os.path.isdir(outpath):\n",
    "        os.mkdir(outpath)\n",
    "    return outpath"
   ]
  },
  {
   "cell_type": "markdown",
   "id": "10b9b22e-00c0-4a8f-8dae-5516c0148786",
   "metadata": {},
   "source": [
    "## All together"
   ]
  },
  {
   "cell_type": "code",
   "execution_count": 5,
   "id": "711b1ba0-54fb-4173-9a0f-db6eda6f6064",
   "metadata": {},
   "outputs": [],
   "source": [
    "def Crop_data(inputfn,outputdir,xmin, ymin, xmax, ymax):\n",
    "    outpath=Createoutputdir(outputdir)\n",
    "    opt=gdal.WarpOptions(format='EHdr',outputBounds=(xmin, ymin, xmax, ymax))\n",
    "    outputfn=os.path.join(outpath,inputfn.split('/')[-1])\n",
    "    gdal.Warp(outputfn,inputfn,options=opt)\n",
    "    os.remove(inputfn)\n",
    "    return"
   ]
  },
  {
   "cell_type": "markdown",
   "id": "d4a89e5b-2244-4ba2-98ca-d4f4bf4b5558",
   "metadata": {},
   "source": [
    "# MAIN"
   ]
  },
  {
   "cell_type": "code",
   "execution_count": 6,
   "id": "d25cff0c-d5ec-4c62-9e7c-b64214e87496",
   "metadata": {},
   "outputs": [],
   "source": [
    "listdirfiles=[os.path.join(input_dir,f) for f in os.listdir(input_dir) if f.endswith('.dir')]"
   ]
  },
  {
   "cell_type": "code",
   "execution_count": 7,
   "id": "4f0970c2-d21d-4e87-b099-8d1fe344d741",
   "metadata": {},
   "outputs": [
    {
     "data": {
      "text/plain": [
       "[None, None]"
      ]
     },
     "execution_count": 7,
     "metadata": {},
     "output_type": "execute_result"
    }
   ],
   "source": [
    "[Crop_data(fn,output_dir,xmin, ymin, xmax, ymax) for fn in listdirfiles[0:2]]"
   ]
  }
 ],
 "metadata": {
  "kernelspec": {
   "display_name": "Python 3 (ipykernel)",
   "language": "python",
   "name": "python3"
  },
  "language_info": {
   "codemirror_mode": {
    "name": "ipython",
    "version": 3
   },
   "file_extension": ".py",
   "mimetype": "text/x-python",
   "name": "python",
   "nbconvert_exporter": "python",
   "pygments_lexer": "ipython3",
   "version": "3.9.6"
  }
 },
 "nbformat": 4,
 "nbformat_minor": 5
}
