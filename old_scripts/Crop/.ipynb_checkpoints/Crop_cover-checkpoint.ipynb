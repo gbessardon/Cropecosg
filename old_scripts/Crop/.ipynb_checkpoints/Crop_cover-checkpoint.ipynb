{
 "cells": [
  {
   "cell_type": "code",
   "execution_count": null,
   "id": "3e52795f-aaa1-45c1-bae2-de343219a8a4",
   "metadata": {},
   "outputs": [],
   "source": [
    "import gdal\n",
    "import os\n",
    "import pandas as pd"
   ]
  },
  {
   "cell_type": "markdown",
   "id": "de34d534-af64-4fc2-bc13-0bd8c1661c96",
   "metadata": {},
   "source": [
    "# Declare user inputs"
   ]
  },
  {
   "cell_type": "markdown",
   "id": "cf60f5ba-9dae-41d0-ba12-35bd5726df7e",
   "metadata": {},
   "source": [
    "## Declare the ECOSG original path"
   ]
  },
  {
   "cell_type": "code",
   "execution_count": null,
   "id": "d65d5d32-be4e-43fd-8012-bf2aefe14c37",
   "metadata": {},
   "outputs": [],
   "source": [
    "input_ecosgcoverpath='/data/gbessardon/ECOCLIMAP-SG/COVER/ecosg_final_map.dir'\n",
    "outputfn='ecosg_chunk.dir'"
   ]
  },
  {
   "cell_type": "markdown",
   "id": "18f83dd7-6292-4d74-8c92-a07b070b8f3c",
   "metadata": {},
   "source": [
    "## Declare new bounds"
   ]
  },
  {
   "cell_type": "code",
   "execution_count": null,
   "id": "b4fdd6ba-00b6-46be-b117-32281d5ebd6a",
   "metadata": {},
   "outputs": [],
   "source": [
    "xmin=-180\n",
    "xmax=180\n",
    "ymin=0\n",
    "ymax=90"
   ]
  },
  {
   "cell_type": "markdown",
   "id": "8eb48b82-33c8-4f09-923b-78e79d2fe949",
   "metadata": {},
   "source": [
    "# Declare functions"
   ]
  },
  {
   "cell_type": "markdown",
   "id": "a46705c3-f087-4475-8aa1-edb12a337db9",
   "metadata": {},
   "source": [
    "## Prepare the cover file"
   ]
  },
  {
   "cell_type": "markdown",
   "id": "11309dad-924e-4bad-ae3c-5ea88c2e1053",
   "metadata": {},
   "source": [
    "### Create python readable .hdr "
   ]
  },
  {
   "cell_type": "code",
   "execution_count": null,
   "id": "db962630-0834-4823-b404-686437e120a3",
   "metadata": {},
   "outputs": [],
   "source": [
    "def create_readablehdr(fnhdr,outfn):\n",
    "\n",
    "    dictecosg=pd.read_csv(fnhdr,delimiter=\":\",\n",
    "                      names=['characteristics','value'],\n",
    "                      index_col='characteristics',\n",
    "                     skiprows=1).to_dict()['value']\n",
    "\n",
    "    dictp={'nrows' : '16800',\n",
    "           'ncols' : '43200',\n",
    "           'nodata' : '0',\n",
    "           'nbands' : '1',\n",
    "           'nbits'  : '8',\n",
    "           'ULXMAP' :    '-180.00000000000000',\n",
    "           'ULYMAP' :      '79.9999999999986',\n",
    "           'XDIM'  :        '0.00277777777777',\n",
    "           'YDIM'  :        '0.00277777777777'}\n",
    "    \n",
    "    dictp['nodata']=dictecosg['nodata']\n",
    "    dictp['nrows']=dictecosg['rows']\n",
    "    dictp['ncols']=dictecosg['cols']\n",
    "    dictp['ULXMAP']=dictecosg['west']\n",
    "    dictp['ULYMAP']=dictecosg['north']\n",
    "    dictp['XDIM']=str(abs((float(dictecosg['west'])-float(dictecosg['east']))/float(int(dictecosg['cols']))))\n",
    "    dictp['YDIM']=str(abs((float(dictecosg['north'])-float(dictecosg['south']))/float(int(dictecosg['rows']))))\n",
    "    with open(outfn,'w+') as f:\n",
    "        for i,v in dictp.items():\n",
    "            f.write(i+' '+v+'\\n')\n",
    "        f.close()\n",
    "    return(dictp,dictecosg)"
   ]
  },
  {
   "cell_type": "markdown",
   "id": "57b99b97-cc97-4ed6-bc1e-50624703eed0",
   "metadata": {},
   "source": [
    "### Create a soft link to ECOSG .dir file and create a python readable .hdr file"
   ]
  },
  {
   "cell_type": "code",
   "execution_count": null,
   "id": "5308e6aa-a2c9-4a99-92b7-5214fc911d9b",
   "metadata": {},
   "outputs": [],
   "source": [
    "def Create_readable_ecosg_cover(input_ecosgcoverpath):\n",
    "    fnlink=os.path.join(os.getcwd(),input_ecosgcoverpath.split('/')[-1])\n",
    "    if not os.path.exists(fnlink):\n",
    "        os.symlink(input_ecosgcoverpath,os.path.join(os.getcwd(),input_ecosgcoverpath.split('/')[-1]))\n",
    "    fnhdr=input_ecosgcoverpath.replace('.dir','.hdr')    \n",
    "    outfn=fnlink.replace('.dir','.hdr') \n",
    "    (dictp,dictecosg)=create_readablehdr(fnhdr,outfn)\n",
    "    return(dictp,dictecosg,outfn,fnlink)\n",
    "    "
   ]
  },
  {
   "cell_type": "markdown",
   "id": "d4a89e5b-2244-4ba2-98ca-d4f4bf4b5558",
   "metadata": {},
   "source": [
    "# MAIN"
   ]
  },
  {
   "cell_type": "code",
   "execution_count": null,
   "id": "d25cff0c-d5ec-4c62-9e7c-b64214e87496",
   "metadata": {},
   "outputs": [],
   "source": [
    "Create_readable_ecosg_cover(input_ecosgcoverpath)"
   ]
  }
 ],
 "metadata": {
  "kernelspec": {
   "display_name": "Python 3 (ipykernel)",
   "language": "python",
   "name": "python3"
  },
  "language_info": {
   "codemirror_mode": {
    "name": "ipython",
    "version": 3
   },
   "file_extension": ".py",
   "mimetype": "text/x-python",
   "name": "python",
   "nbconvert_exporter": "python",
   "pygments_lexer": "ipython3",
   "version": "3.9.6"
  }
 },
 "nbformat": 4,
 "nbformat_minor": 5
}
