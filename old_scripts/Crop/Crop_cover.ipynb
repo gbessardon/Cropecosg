{
 "cells": [
  {
   "cell_type": "code",
   "execution_count": 1,
   "id": "3e52795f-aaa1-45c1-bae2-de343219a8a4",
   "metadata": {},
   "outputs": [],
   "source": [
    "import gdal\n",
    "import os\n",
    "import pandas as pd"
   ]
  },
  {
   "cell_type": "markdown",
   "id": "de34d534-af64-4fc2-bc13-0bd8c1661c96",
   "metadata": {},
   "source": [
    "# Declare user inputs"
   ]
  },
  {
   "cell_type": "markdown",
   "id": "cf60f5ba-9dae-41d0-ba12-35bd5726df7e",
   "metadata": {},
   "source": [
    "## Declare the ECOSG original path"
   ]
  },
  {
   "cell_type": "code",
   "execution_count": 2,
   "id": "d65d5d32-be4e-43fd-8012-bf2aefe14c37",
   "metadata": {},
   "outputs": [],
   "source": [
    "input_ecosgcoverpath='/data/gbessardon/ECOCLIMAP-SG/COVER/ecosg_final_map.dir'\n",
    "outputfn='ecosg_chunk.dir'"
   ]
  },
  {
   "cell_type": "markdown",
   "id": "18f83dd7-6292-4d74-8c92-a07b070b8f3c",
   "metadata": {},
   "source": [
    "## Declare new bounds"
   ]
  },
  {
   "cell_type": "code",
   "execution_count": 3,
   "id": "b4fdd6ba-00b6-46be-b117-32281d5ebd6a",
   "metadata": {},
   "outputs": [],
   "source": [
    "xmin=-180\n",
    "xmax=180\n",
    "ymin=0\n",
    "ymax=90"
   ]
  },
  {
   "cell_type": "markdown",
   "id": "8eb48b82-33c8-4f09-923b-78e79d2fe949",
   "metadata": {},
   "source": [
    "# Declare functions"
   ]
  },
  {
   "cell_type": "markdown",
   "id": "a46705c3-f087-4475-8aa1-edb12a337db9",
   "metadata": {},
   "source": [
    "## Prepare the cover file"
   ]
  },
  {
   "cell_type": "markdown",
   "id": "11309dad-924e-4bad-ae3c-5ea88c2e1053",
   "metadata": {},
   "source": [
    "### Create python readable .hdr "
   ]
  },
  {
   "cell_type": "code",
   "execution_count": 4,
   "id": "db962630-0834-4823-b404-686437e120a3",
   "metadata": {},
   "outputs": [],
   "source": [
    "def create_readablehdr(fnhdr,outfn):\n",
    "\n",
    "    dictecosg=pd.read_csv(fnhdr,delimiter=\":\",\n",
    "                      names=['characteristics','value'],\n",
    "                      index_col='characteristics',\n",
    "                     skiprows=1).to_dict()['value']\n",
    "\n",
    "    dictp={'nrows' : '16800',\n",
    "           'ncols' : '43200',\n",
    "           'nodata' : '0',\n",
    "           'nbands' : '1',\n",
    "           'nbits'  : '8',\n",
    "           'ULXMAP' :    '-180.00000000000000',\n",
    "           'ULYMAP' :      '79.9999999999986',\n",
    "           'XDIM'  :        '0.00277777777777',\n",
    "           'YDIM'  :        '0.00277777777777'}\n",
    "    \n",
    "    dictp['nodata']=dictecosg['nodata']\n",
    "    dictp['nrows']=dictecosg['rows']\n",
    "    dictp['ncols']=dictecosg['cols']\n",
    "    dictp['ULXMAP']=dictecosg['west']\n",
    "    dictp['ULYMAP']=dictecosg['north']\n",
    "    dictp['XDIM']=str(abs((float(dictecosg['west'])-float(dictecosg['east']))/float(int(dictecosg['cols']))))\n",
    "    dictp['YDIM']=str(abs((float(dictecosg['north'])-float(dictecosg['south']))/float(int(dictecosg['rows']))))\n",
    "    with open(outfn,'w+') as f:\n",
    "        for i,v in dictp.items():\n",
    "            f.write(i+' '+v+'\\n')\n",
    "        f.close()\n",
    "    return(dictp,dictecosg)"
   ]
  },
  {
   "cell_type": "markdown",
   "id": "57b99b97-cc97-4ed6-bc1e-50624703eed0",
   "metadata": {},
   "source": [
    "### Create a soft link to ECOSG .dir file and create a python readable .hdr file"
   ]
  },
  {
   "cell_type": "code",
   "execution_count": 5,
   "id": "5308e6aa-a2c9-4a99-92b7-5214fc911d9b",
   "metadata": {},
   "outputs": [],
   "source": [
    "def Create_readable_ecosg_cover(input_ecosgcoverpath):\n",
    "    fnlink=os.path.join(os.getcwd(),input_ecosgcoverpath.split('/')[-1])\n",
    "    if not os.path.exists(fnlink):\n",
    "        os.symlink(input_ecosgcoverpath,os.path.join(os.getcwd(),input_ecosgcoverpath.split('/')[-1]))\n",
    "    fnhdr=input_ecosgcoverpath.replace('.dir','.hdr')    \n",
    "    outfn=fnlink.replace('.dir','.hdr') \n",
    "    (dictp,dictecosg)=create_readablehdr(fnhdr,outfn)\n",
    "    return(dictp,dictecosg,outfn,fnlink)\n",
    "    "
   ]
  },
  {
   "cell_type": "markdown",
   "id": "10b9b22e-00c0-4a8f-8dae-5516c0148786",
   "metadata": {},
   "source": [
    "## All together"
   ]
  },
  {
   "cell_type": "code",
   "execution_count": 6,
   "id": "711b1ba0-54fb-4173-9a0f-db6eda6f6064",
   "metadata": {},
   "outputs": [],
   "source": [
    "def Crop_cover(input_ecosgcoverpath,xmin, ymin, xmax, ymax):\n",
    "    _,_,_,fnlink=Create_readable_ecosg_cover(input_ecosgcoverpath)\n",
    "    opt=gdal.WarpOptions(format='EHdr',outputBounds=(xmin, ymin, xmax, ymax))\n",
    "    gdal.Warp(outputfn,fnlink,options=opt)\n",
    "    return"
   ]
  },
  {
   "cell_type": "markdown",
   "id": "d4a89e5b-2244-4ba2-98ca-d4f4bf4b5558",
   "metadata": {},
   "source": [
    "# MAIN"
   ]
  },
  {
   "cell_type": "code",
   "execution_count": 7,
   "id": "d25cff0c-d5ec-4c62-9e7c-b64214e87496",
   "metadata": {},
   "outputs": [
    {
     "ename": "OSError",
     "evalue": "[Errno 122] Disk quota exceeded",
     "output_type": "error",
     "traceback": [
      "\u001b[0;31m---------------------------------------------------------------------------\u001b[0m",
      "\u001b[0;31mOSError\u001b[0m                                   Traceback (most recent call last)",
      "\u001b[0;31mOSError\u001b[0m: [Errno 122] Disk quota exceeded",
      "\nDuring handling of the above exception, another exception occurred:\n",
      "\u001b[0;31mOSError\u001b[0m                                   Traceback (most recent call last)",
      "Input \u001b[0;32mIn [7]\u001b[0m, in \u001b[0;36m<cell line: 1>\u001b[0;34m()\u001b[0m\n\u001b[0;32m----> 1\u001b[0m \u001b[43mCrop_cover\u001b[49m\u001b[43m(\u001b[49m\u001b[43minput_ecosgcoverpath\u001b[49m\u001b[43m,\u001b[49m\u001b[43mxmin\u001b[49m\u001b[43m,\u001b[49m\u001b[43m \u001b[49m\u001b[43mymin\u001b[49m\u001b[43m,\u001b[49m\u001b[43m \u001b[49m\u001b[43mxmax\u001b[49m\u001b[43m,\u001b[49m\u001b[43m \u001b[49m\u001b[43mymax\u001b[49m\u001b[43m)\u001b[49m\n",
      "Input \u001b[0;32mIn [6]\u001b[0m, in \u001b[0;36mCrop_cover\u001b[0;34m(input_ecosgcoverpath, xmin, ymin, xmax, ymax)\u001b[0m\n\u001b[1;32m      1\u001b[0m \u001b[38;5;28;01mdef\u001b[39;00m \u001b[38;5;21mCrop_cover\u001b[39m(input_ecosgcoverpath,xmin, ymin, xmax, ymax):\n\u001b[0;32m----> 2\u001b[0m     _,_,_,fnlink\u001b[38;5;241m=\u001b[39m\u001b[43mCreate_readable_ecosg_cover\u001b[49m\u001b[43m(\u001b[49m\u001b[43minput_ecosgcoverpath\u001b[49m\u001b[43m)\u001b[49m\n\u001b[1;32m      3\u001b[0m     opt\u001b[38;5;241m=\u001b[39mgdal\u001b[38;5;241m.\u001b[39mWarpOptions(\u001b[38;5;28mformat\u001b[39m\u001b[38;5;241m=\u001b[39m\u001b[38;5;124m'\u001b[39m\u001b[38;5;124mEHdr\u001b[39m\u001b[38;5;124m'\u001b[39m,outputBounds\u001b[38;5;241m=\u001b[39m(xmin, ymin, xmax, ymax))\n\u001b[1;32m      4\u001b[0m     gdal\u001b[38;5;241m.\u001b[39mWarp(outputfn,fnlink,options\u001b[38;5;241m=\u001b[39mopt)\n",
      "Input \u001b[0;32mIn [5]\u001b[0m, in \u001b[0;36mCreate_readable_ecosg_cover\u001b[0;34m(input_ecosgcoverpath)\u001b[0m\n\u001b[1;32m      5\u001b[0m fnhdr\u001b[38;5;241m=\u001b[39minput_ecosgcoverpath\u001b[38;5;241m.\u001b[39mreplace(\u001b[38;5;124m'\u001b[39m\u001b[38;5;124m.dir\u001b[39m\u001b[38;5;124m'\u001b[39m,\u001b[38;5;124m'\u001b[39m\u001b[38;5;124m.hdr\u001b[39m\u001b[38;5;124m'\u001b[39m)    \n\u001b[1;32m      6\u001b[0m outfn\u001b[38;5;241m=\u001b[39mfnlink\u001b[38;5;241m.\u001b[39mreplace(\u001b[38;5;124m'\u001b[39m\u001b[38;5;124m.dir\u001b[39m\u001b[38;5;124m'\u001b[39m,\u001b[38;5;124m'\u001b[39m\u001b[38;5;124m.hdr\u001b[39m\u001b[38;5;124m'\u001b[39m) \n\u001b[0;32m----> 7\u001b[0m (dictp,dictecosg)\u001b[38;5;241m=\u001b[39m\u001b[43mcreate_readablehdr\u001b[49m\u001b[43m(\u001b[49m\u001b[43mfnhdr\u001b[49m\u001b[43m,\u001b[49m\u001b[43moutfn\u001b[49m\u001b[43m)\u001b[49m\n\u001b[1;32m      8\u001b[0m \u001b[38;5;28;01mreturn\u001b[39;00m(dictp,dictecosg,outfn,fnlink)\n",
      "Input \u001b[0;32mIn [4]\u001b[0m, in \u001b[0;36mcreate_readablehdr\u001b[0;34m(fnhdr, outfn)\u001b[0m\n\u001b[1;32m     26\u001b[0m     \u001b[38;5;28;01mfor\u001b[39;00m i,v \u001b[38;5;129;01min\u001b[39;00m dictp\u001b[38;5;241m.\u001b[39mitems():\n\u001b[1;32m     27\u001b[0m         f\u001b[38;5;241m.\u001b[39mwrite(i\u001b[38;5;241m+\u001b[39m\u001b[38;5;124m'\u001b[39m\u001b[38;5;124m \u001b[39m\u001b[38;5;124m'\u001b[39m\u001b[38;5;241m+\u001b[39mv\u001b[38;5;241m+\u001b[39m\u001b[38;5;124m'\u001b[39m\u001b[38;5;130;01m\\n\u001b[39;00m\u001b[38;5;124m'\u001b[39m)\n\u001b[0;32m---> 28\u001b[0m     \u001b[43mf\u001b[49m\u001b[38;5;241;43m.\u001b[39;49m\u001b[43mclose\u001b[49m\u001b[43m(\u001b[49m\u001b[43m)\u001b[49m\n\u001b[1;32m     29\u001b[0m \u001b[38;5;28;01mreturn\u001b[39;00m(dictp,dictecosg)\n",
      "\u001b[0;31mOSError\u001b[0m: [Errno 122] Disk quota exceeded"
     ]
    }
   ],
   "source": [
    "Crop_cover(input_ecosgcoverpath,xmin, ymin, xmax, ymax)"
   ]
  },
  {
   "cell_type": "code",
   "execution_count": null,
   "id": "3e457188-aac8-44c0-8920-de7fb000954b",
   "metadata": {},
   "outputs": [],
   "source": [
    "fnhdr=outputfn.replace('.dir','.hdr')"
   ]
  },
  {
   "cell_type": "code",
   "execution_count": null,
   "id": "4f0970c2-d21d-4e87-b099-8d1fe344d741",
   "metadata": {},
   "outputs": [],
   "source": [
    "    f=open(fnhdr,'r')\n",
    "    lines=f.readlines()\n",
    "    characteristics=[l.split(' ')[0] for l in lines]\n",
    "    value=[l.strip().replace('  ',' ').split(' ')[1] for l in lines]\n",
    "    dicti ={'characteristics':characteristics, 'value':value}\n",
    "    dictuncompress=pd.DataFrame(dicti,index=characteristics).to_dict()['value']\n",
    "    dictp={'ECOCLIMAP' : '',\n",
    "            'nodata' : '0',\n",
    "            'north' : '80.',\n",
    "            'south' : '-60.',\n",
    "            'west' : '-180.',\n",
    "            'east' : '180.',\n",
    "            'rows' : '50400',\n",
    "            'cols' : '129600',\n",
    "            'fact' : '10',\n",
    "            'compress' : '1',\n",
    "            'recordtype' : 'integer 16 bytes' }\n",
    "    dictp['nodata']=dictuncompress['nodata']\n",
    "    dictp['rows']=dictuncompress['nrows']\n",
    "    dictp['cols']=dictuncompress['ncols']\n",
    "    dictp['north']=dictuncompress['ULYMAP']\n",
    "    dictp['south']=str(float(dictuncompress['ULYMAP'])-(float(dictuncompress['nrows'])*float(dictuncompress['YDIM'])))\n",
    "    dictp['west']=dictuncompress['ULXMAP']\n",
    "    dictp['east']=str(float(dictuncompress['ULXMAP'])+(float(dictuncompress['ncols'])*float(dictuncompress['XDIM'])))\n",
    "    with open(outfn,'w+') as f:\n",
    "        for i,v in dictp.items():\n",
    "            f.write(i+': '+v+'\\n')\n",
    "        f.close()"
   ]
  }
 ],
 "metadata": {
  "kernelspec": {
   "display_name": "Python 3 (ipykernel)",
   "language": "python",
   "name": "python3"
  },
  "language_info": {
   "codemirror_mode": {
    "name": "ipython",
    "version": 3
   },
   "file_extension": ".py",
   "mimetype": "text/x-python",
   "name": "python",
   "nbconvert_exporter": "python",
   "pygments_lexer": "ipython3",
   "version": "3.9.6"
  }
 },
 "nbformat": 4,
 "nbformat_minor": 5
}
