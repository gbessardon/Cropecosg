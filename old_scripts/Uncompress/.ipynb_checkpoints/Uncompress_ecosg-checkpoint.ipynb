{
 "cells": [
  {
   "cell_type": "markdown",
   "id": "9a420a02-5fe6-4dde-a22e-310c7e394158",
   "metadata": {},
   "source": [
    "# Declare libraries"
   ]
  },
  {
   "cell_type": "code",
   "execution_count": 1,
   "id": "9968620c-f1bd-49c9-ba89-d623c57105a7",
   "metadata": {},
   "outputs": [],
   "source": [
    "import os\n",
    "import f90nml\n",
    "import pandas as pd\n",
    "import subprocess"
   ]
  },
  {
   "cell_type": "code",
   "execution_count": 2,
   "id": "39324605-554e-4bb4-8420-2e5d9716bd0e",
   "metadata": {},
   "outputs": [],
   "source": [
    "input_directory='/data/gbessardon/laialebdomodis/Compress/Compressed_LAI'\n",
    "output_end='Uncompressed_LAI_2' "
   ]
  },
  {
   "cell_type": "markdown",
   "id": "4ab79131-d76f-4c0f-b05d-9489e66ac9f0",
   "metadata": {},
   "source": [
    "# Decalare functions"
   ]
  },
  {
   "cell_type": "markdown",
   "id": "aca5d40c-53b7-4aa3-8173-9658c675e964",
   "metadata": {},
   "source": [
    "## Function to Create the outputdir"
   ]
  },
  {
   "cell_type": "code",
   "execution_count": 3,
   "id": "7f5cf901-aae7-49c4-a486-dc960798b4a2",
   "metadata": {},
   "outputs": [],
   "source": [
    "def Createoutputdir(outputdir):\n",
    "    outpath=os.path.join(os.getcwd(),outputdir)\n",
    "    if not os.path.isdir(outpath):\n",
    "        os.mkdir(outpath)\n",
    "    return outpath"
   ]
  },
  {
   "cell_type": "markdown",
   "id": "9bacf572-b730-4d4c-a0bf-241f9d601d7b",
   "metadata": {},
   "source": [
    "## Re-write ECOSG .hdr file into python readable hdr file"
   ]
  },
  {
   "cell_type": "code",
   "execution_count": 4,
   "id": "752b8f1e-633e-4277-a399-0564e173e57c",
   "metadata": {},
   "outputs": [],
   "source": [
    "def create_readablehdr(fnhdr,outfn):\n",
    "\n",
    "    dictecosg=pd.read_csv(fnhdr,delimiter=\":\",\n",
    "                      names=['characteristics','value'],\n",
    "                      index_col='characteristics',\n",
    "                     skiprows=1).to_dict()['value']\n",
    "\n",
    "    dictp={'nrows' : '16800',\n",
    "           'ncols' : '43200',\n",
    "           'nodata' : '0',\n",
    "           'nbands' : '1',\n",
    "           'nbits'  : '8',\n",
    "           'ULXMAP' :    '-180.00000000000000',\n",
    "           'ULYMAP' :      '79.9999999999986',\n",
    "           'XDIM'  :        '0.00277777777777',\n",
    "           'YDIM'  :        '0.00277777777777'}\n",
    "    \n",
    "    dictp['nodata']=dictecosg['nodata']\n",
    "    dictp['nrows']=dictecosg['rows']\n",
    "    dictp['ncols']=dictecosg['cols']\n",
    "    dictp['ULXMAP']=dictecosg['west']\n",
    "    dictp['ULYMAP']=dictecosg['north']\n",
    "    dictp['XDIM']=str(abs((float(dictecosg['west'])-float(dictecosg['east']))/float(int(dictecosg['cols']))))\n",
    "    dictp['YDIM']=str(abs((float(dictecosg['north'])-float(dictecosg['south']))/float(int(dictecosg['rows']))))\n",
    "    with open(outfn,'w+') as f:\n",
    "        for i,v in dictp.items():\n",
    "            f.write(i+' '+v+'\\n')\n",
    "        f.close()\n",
    "    return(dictp,dictecosg)"
   ]
  },
  {
   "cell_type": "code",
   "execution_count": 5,
   "id": "e0b32708-e06c-4709-a72c-8992e0920580",
   "metadata": {},
   "outputs": [],
   "source": [
    "def Uncompressfile(output_ending,fn):\n",
    "    # Creates the output directory\n",
    "    outpath=Createoutputdir(output_ending)\n",
    "    # Creates output file path\n",
    "    outdirfn=os.path.join(outpath,fn.split('/')[-1])\n",
    "    # Creates the hdr python readble file and extact info\n",
    "    (dictp,dictecosg)=create_readablehdr(fn.replace('.dir','.hdr'),outdirfn.replace('.dir','.hdr'))\n",
    "    # Read and rewrite the Namelist to \n",
    "    NAMELISTpath=os.path.join(os.getcwd(),'namelist.nml')\n",
    "    nml = f90nml.read(NAMELISTpath)\n",
    "    nml['inputs']['infile']=fn\n",
    "    nml['inputs']['outfile']=outdirfn\n",
    "    nml['inputs']['ncol'] = int(int(dictecosg['cols'])/3)\n",
    "    nml['inputs']['nlin'] = int(int(dictecosg['rows'])/3)\n",
    "    os.remove(NAMELISTpath) # remove before rewritting the file\n",
    "    nml.write(NAMELISTpath)\n",
    "    Uncompressscipt=os.path.join(os.getcwd(),'Uncompressecosg.F90')\n",
    "    cmd2='gfortran -o compiling.out ' +Uncompressscipt\n",
    "    subprocess.run(cmd2,shell=True)\n",
    "    subprocess.run('./compiling.out',shell=True)\n",
    "    return(outdirfn)"
   ]
  },
  {
   "cell_type": "markdown",
   "id": "f748959a-dfe5-4356-bf19-8789fcee1663",
   "metadata": {},
   "source": [
    "# Main bit"
   ]
  },
  {
   "cell_type": "code",
   "execution_count": 6,
   "id": "13ff90bd-e434-41e5-b010-655b8f3dae0b",
   "metadata": {},
   "outputs": [],
   "source": [
    "# list files to uncompress\n",
    "listdirfiles=[os.path.join(input_directory,f) for f in os.listdir(input_directory) if f.endswith('.dir')]\n",
    "# Uncompress files and return the location\n",
    "Uncompressedlist=[Uncompressfile(output_end,fn) for fn in listdirfiles[0:2]]"
   ]
  }
 ],
 "metadata": {
  "kernelspec": {
   "display_name": "Python 3 (ipykernel)",
   "language": "python",
   "name": "python3"
  },
  "language_info": {
   "codemirror_mode": {
    "name": "ipython",
    "version": 3
   },
   "file_extension": ".py",
   "mimetype": "text/x-python",
   "name": "python",
   "nbconvert_exporter": "python",
   "pygments_lexer": "ipython3",
   "version": "3.9.6"
  }
 },
 "nbformat": 4,
 "nbformat_minor": 5
}
