{
 "cells": [
  {
   "cell_type": "markdown",
   "id": "ba4d7c6e-17c5-49ad-9683-438088e0e8a9",
   "metadata": {},
   "source": [
    "# Declare libraries"
   ]
  },
  {
   "cell_type": "code",
   "execution_count": 1,
   "id": "2ffb9c4f-53c0-46e2-aedb-5a21e84afdfe",
   "metadata": {},
   "outputs": [],
   "source": [
    "import os\n",
    "import f90nml\n",
    "import pandas as pd\n",
    "import subprocess\n",
    "import numpy as np\n",
    "import rasterio\n",
    "from rasterio.windows import Window\n",
    "from rasterio.merge import merge\n",
    "import pycrs\n",
    "import shutil"
   ]
  },
  {
   "cell_type": "markdown",
   "id": "2f65e39b-f85c-42d2-aabe-a42211024225",
   "metadata": {},
   "source": [
    "# Declare Directories"
   ]
  },
  {
   "cell_type": "code",
   "execution_count": 2,
   "id": "ba048235-938e-4a04-bf80-62ef7031b482",
   "metadata": {},
   "outputs": [],
   "source": [
    "input_directory='/data/gbessardon/Crop_ecosg/Uncompress/Uncompressed_LAI/'\n",
    "input_ecosgcoverpath='/data/gbessardon/ECOCLIMAP-SG/COVER/ecosg_final_map.dir'\n",
    "output_end='Compressed_LAI' "
   ]
  },
  {
   "cell_type": "markdown",
   "id": "6f7ff9a6-68a5-4fe9-90a7-01c75da0b6bd",
   "metadata": {},
   "source": [
    "# Decalare functions"
   ]
  },
  {
   "cell_type": "markdown",
   "id": "aa77739d-7df6-4d6f-8e9f-533d9d4ee5ff",
   "metadata": {},
   "source": [
    "## Function to Create the outputdir"
   ]
  },
  {
   "cell_type": "code",
   "execution_count": 3,
   "id": "8118f901-9970-4fcf-a26f-cf6dbc69b399",
   "metadata": {},
   "outputs": [],
   "source": [
    "def Createoutputdir(outputdir):\n",
    "    outpath=os.path.join(os.getcwd(),outputdir)\n",
    "    if not os.path.isdir(outpath):\n",
    "        os.mkdir(outpath)\n",
    "    return outpath"
   ]
  },
  {
   "cell_type": "markdown",
   "id": "9c97d5b4-31eb-4c72-b574-6afd4337b3fc",
   "metadata": {},
   "source": [
    "## Re-write Uncompressed .hdr file into ECOSG .hdr format"
   ]
  },
  {
   "cell_type": "code",
   "execution_count": 4,
   "id": "f4023509-bc9e-4f0f-ba4f-bb3f4630ad4b",
   "metadata": {},
   "outputs": [],
   "source": [
    "def create_ecosghdr(fnhdr,outfn):\n",
    "    NAMELISTpath=os.path.join(os.getcwd(),'Namelist.nml')\n",
    "    nml = f90nml.read(NAMELISTpath)\n",
    "    f=open(fnhdr,'r')\n",
    "    lines=f.readlines()\n",
    "    characteristics=[l.split(' ')[0] for l in lines]\n",
    "    value=[l.strip().replace('  ',' ').split(' ')[1] for l in lines]\n",
    "    dicti ={'characteristics':characteristics, 'value':value}\n",
    "    dictuncompress=pd.DataFrame(dicti,index=characteristics).to_dict()['value']\n",
    "    dictp={'ECOCLIMAP' : '',\n",
    "            'nodata' : '0',\n",
    "            'north' : '80.',\n",
    "            'south' : '-60.',\n",
    "            'west' : '-180.',\n",
    "            'east' : '180.',\n",
    "            'rows' : '50400',\n",
    "            'cols' : '129600',\n",
    "            'fact' : '10',\n",
    "            'compress' : '1',\n",
    "            'recordtype' : 'integer 16 bytes' }\n",
    "    dictp['nodata']=dictuncompress['nodata']\n",
    "    dictp['rows']=dictuncompress['nrows']\n",
    "    dictp['cols']=dictuncompress['ncols']\n",
    "    dictp['north']=dictuncompress['ULYMAP']\n",
    "    dictp['south']=str(float(dictuncompress['ULYMAP'])-(float(dictuncompress['nrows'])*float(dictuncompress['YDIM'])))\n",
    "    dictp['west']=dictuncompress['ULXMAP']\n",
    "    dictp['east']=str(float(dictuncompress['ULXMAP'])+(float(dictuncompress['ncols'])*float(dictuncompress['XDIM'])))\n",
    "    with open(outfn,'w+') as f:\n",
    "        for i,v in dictp.items():\n",
    "            f.write(i+': '+v+'\\n')\n",
    "        f.close()\n",
    "    return(dictp,dictuncompress)"
   ]
  },
  {
   "cell_type": "markdown",
   "id": "5e6c747a-dad6-4153-b036-79096faa5508",
   "metadata": {},
   "source": [
    "## Create python readable .hdr "
   ]
  },
  {
   "cell_type": "code",
   "execution_count": 5,
   "id": "4e31c0a4-96ec-46b6-8d4e-f1336d9a9861",
   "metadata": {},
   "outputs": [],
   "source": [
    "def create_readablehdr(fnhdr,outfn):\n",
    "\n",
    "    dictecosg=pd.read_csv(fnhdr,delimiter=\":\",\n",
    "                      names=['characteristics','value'],\n",
    "                      index_col='characteristics',\n",
    "                     skiprows=1).to_dict()['value']\n",
    "\n",
    "    dictp={'nrows' : '16800',\n",
    "           'ncols' : '43200',\n",
    "           'nodata' : '0',\n",
    "           'nbands' : '1',\n",
    "           'nbits'  : '8',\n",
    "           'ULXMAP' :    '-180.00000000000000',\n",
    "           'ULYMAP' :      '79.9999999999986',\n",
    "           'XDIM'  :        '0.00277777777777',\n",
    "           'YDIM'  :        '0.00277777777777'}\n",
    "    \n",
    "    dictp['nodata']=dictecosg['nodata']\n",
    "    dictp['nrows']=dictecosg['rows']\n",
    "    dictp['ncols']=dictecosg['cols']\n",
    "    dictp['ULXMAP']=dictecosg['west']\n",
    "    dictp['ULYMAP']=dictecosg['north']\n",
    "    dictp['XDIM']=str(abs((float(dictecosg['west'])-float(dictecosg['east']))/float(int(dictecosg['cols']))))\n",
    "    dictp['YDIM']=str(abs((float(dictecosg['north'])-float(dictecosg['south']))/float(int(dictecosg['rows']))))\n",
    "    with open(outfn,'w+') as f:\n",
    "        for i,v in dictp.items():\n",
    "            f.write(i+' '+v+'\\n')\n",
    "        f.close()\n",
    "    return(dictp,dictecosg)"
   ]
  },
  {
   "cell_type": "markdown",
   "id": "8533ff0b-c6d1-42ab-a7f1-064747ef55ee",
   "metadata": {},
   "source": [
    "## Create a soft link to ECOSG .dir file and create a python readable .hdr file"
   ]
  },
  {
   "cell_type": "code",
   "execution_count": 6,
   "id": "e440913d-f4bc-40f5-a92e-374dd721ce7c",
   "metadata": {},
   "outputs": [],
   "source": [
    "def Create_readable_ecosg_cover(input_ecosgcoverpath):\n",
    "    fnlink=os.path.join(os.getcwd(),input_ecosgcoverpath.split('/')[-1])\n",
    "    if not os.path.exists(fnlink):\n",
    "        os.symlink(input_ecosgcoverpath,os.path.join(os.getcwd(),input_ecosgcoverpath.split('/')[-1]))\n",
    "    fnhdr=input_ecosgcoverpath.replace('.dir','.hdr')    \n",
    "    outfn=fnlink.replace('.dir','.hdr') \n",
    "    (dictp,dictecosg)=create_readablehdr(fnhdr,outfn)\n",
    "    return(dictp,dictecosg,outfn,fnlink)\n",
    "    "
   ]
  },
  {
   "cell_type": "markdown",
   "id": "e4344c18-8dbd-44d3-8deb-cfffd5b4b456",
   "metadata": {},
   "source": [
    "## These functions replace make new val0.F90"
   ]
  },
  {
   "cell_type": "markdown",
   "id": "470bfdde-d08a-4aef-adb7-1c5589f7e8f4",
   "metadata": {},
   "source": [
    "### Seacrh the bounding points corresponding to lai/albedo in the ECOSG cover file"
   ]
  },
  {
   "cell_type": "code",
   "execution_count": 7,
   "id": "a04119d5-c3c3-413e-9c2c-f615154d4596",
   "metadata": {},
   "outputs": [],
   "source": [
    "def Search_bounding_index(dictlai,srccover):\n",
    "    wcover=rasterio.windows.from_bounds(float(dictlai['west']),\n",
    "                                        float(dictlai['south']),\n",
    "                                        float(dictlai['east']),\n",
    "                                        float(dictlai['north']),\n",
    "                                        transform=srccover.transform).round_offsets().round_shape()\n",
    "    GCD=np.gcd(wcover.width,wcover.height)\n",
    "    return(wcover,GCD)"
   ]
  },
  {
   "cell_type": "markdown",
   "id": "4cb55e21-7279-453c-9336-2bbce68492f3",
   "metadata": {},
   "source": [
    "### Creates applies ECOSG cover mask and values change to a portion of the file"
   ]
  },
  {
   "cell_type": "code",
   "execution_count": 8,
   "id": "ef2aa7e4-3e69-4d9e-ab22-d906045c7414",
   "metadata": {},
   "outputs": [],
   "source": [
    "def Writewindow_tempfile(wcover,windex,hindex,GCD,\n",
    "                         srccover,srclai):\n",
    "        Wlai=Window(windex, hindex, GCD, GCD)\n",
    "        Weco=Window(windex+wcover.col_off, hindex+wcover.row_off, GCD, GCD)\n",
    "        ecoval = srccover.read(1, window=Weco).astype(np.int16)\n",
    "        laival= srclai.read(1, window=Wlai).astype(np.int16)\n",
    "        if (np.max(laival)>127 or np.min(laival<=-1)):\n",
    "            print (\"problem, val < -1!\")\n",
    "        #laival2[ecoval<4]=1\n",
    "        #laival2[laival<=-1]=1\n",
    "        laival2=((ecoval*100+laival)*((ecoval>=4)*(laival>=0))+1*(ecoval<4)+1*(laival<=-1)).astype(np.int16)\n",
    "        trans=rasterio.windows.transform(Wlai,srclai.transform)\n",
    "        tempfile='temp'+str(hindex)+str(windex)+'.tif'\n",
    "        src=rasterio.open(tempfile,\n",
    "                          mode='w',\n",
    "                          Driver='gTiff',\n",
    "                          width=GCD,\n",
    "                          height=GCD,\n",
    "                          count=srclai.count,\n",
    "                          dtype=rasterio.uint16,\n",
    "                          crs=srclai.crs,\n",
    "                          transform=trans,\n",
    "                          nodata=0)\n",
    "        src.write(laival2,1)\n",
    "        src.close()\n",
    "        return(tempfile)\n",
    "        "
   ]
  },
  {
   "cell_type": "markdown",
   "id": "a7201e1c-65df-4a8d-a704-cdd05b4b8f31",
   "metadata": {},
   "source": [
    "### Make new value all together"
   ]
  },
  {
   "cell_type": "code",
   "execution_count": 9,
   "id": "eaaacb4f-db7c-4458-8db7-a0871943d507",
   "metadata": {},
   "outputs": [],
   "source": [
    "def make_new_val0(windowc,GCD,srccover,srclai,mosaicfile='test.dir'):\n",
    "    src_files_to_mosaic=[]\n",
    "    tempfilelist=[]\n",
    "    for h in range(0,windowc.height,GCD):\n",
    "        for w in range(0,windowc.width,GCD):\n",
    "            tempfile=Writewindow_tempfile(windowc,w,h,GCD,srccover,srclai)\n",
    "            src_files_to_mosaic.append(rasterio.open(tempfile))\n",
    "            tempfilelist.append(tempfile)\n",
    "    mosaic, out_trans = merge(src_files_to_mosaic)\n",
    "    out_meta=srclai.meta.copy()\n",
    "    out_meta.update({\"height\": mosaic.shape[1],\n",
    "                     \"width\": mosaic.shape[2],\n",
    "                     \"transform\": out_trans,\n",
    "                     \"dtype\": rasterio.uint16\n",
    "                    })\n",
    "    with rasterio.open(mosaicfile, \"w\", **out_meta) as dest:\n",
    "        dest.write(mosaic)\n",
    "    dest.close()\n",
    "    [os.remove(f) for f in tempfilelist]\n",
    "    return(out_meta,out_trans)"
   ]
  },
  {
   "cell_type": "markdown",
   "id": "43edd697-53b2-44e6-906f-9beec4823a30",
   "metadata": {},
   "source": [
    "## Runs make new value and the compression script together"
   ]
  },
  {
   "cell_type": "code",
   "execution_count": 10,
   "id": "4a0d0186-37ac-4010-8e3b-34a3a56e20ab",
   "metadata": {},
   "outputs": [],
   "source": [
    "def Compressfile(output_ending,fn,fncoverlink):\n",
    "    # Creates the output directory\n",
    "    outpath=Createoutputdir(output_ending)\n",
    "    # Creates output file path\n",
    "    outdirfn=os.path.join(outpath,fn.split('/')[-1])\n",
    "    # Creates the hdr python readble file and extact info\n",
    "    (dictlaialb,dictuncompress)=create_ecosghdr(fn.replace('.dir','.hdr'),outdirfn.replace('.dir','.hdr'))\n",
    "    # Read and rewrite the Namelist to \n",
    "    NAMELISTpath=os.path.join(os.getcwd(),'Namelist.nml')\n",
    "    nml = f90nml.read(NAMELISTpath)\n",
    "    nml['inputs']['infile']=fn\n",
    "    nml['inputs']['compressed_file']=outdirfn\n",
    "    nml['inputs']['ncol'] = int(int(dictuncompress['ncols'])/3)\n",
    "    nml['inputs']['nlin'] = int(int(dictuncompress['nrows'])/3)\n",
    "    os.remove(NAMELISTpath) # remove before rewritting the file\n",
    "    nml.write(NAMELISTpath)\n",
    "    srccoverSG=rasterio.open(fncoverlink)\n",
    "    srclaialb=rasterio.open(fn)\n",
    "    (windowc,GCD)=Search_bounding_index(dictlaialb,srccoverSG)\n",
    "    om,ot=make_new_val0(windowc,GCD,srccoverSG,srclaialb,mosaicfile=nml['inputs']['outfile'])\n",
    "    compressscipt=os.path.join(os.getcwd(),'Compress_val.F90')\n",
    "    cmd2='gfortran -o compiling.out ' +compressscipt\n",
    "    subprocess.run(cmd2,shell=True)\n",
    "    subprocess.run('./compiling.out',shell=True)\n",
    "    #os.remove(os.path.join(os.getcwd(),nml['inputs']['outfile']))\n",
    "    \n",
    "    return(outdirfn)"
   ]
  },
  {
   "cell_type": "markdown",
   "id": "01bc2b20-8dcc-4d6e-aa8d-d8c9591a5316",
   "metadata": {},
   "source": [
    "# MAIN"
   ]
  },
  {
   "cell_type": "code",
   "execution_count": 11,
   "id": "ed74ee45-95d3-4f0b-a0ce-0cbec90db7f6",
   "metadata": {},
   "outputs": [
    {
     "name": "stdout",
     "output_type": "stream",
     "text": [
      "3213\n",
      "3213\n",
      "3212\n",
      "3210\n",
      "3205\n",
      "3207\n",
      "2314\n",
      "3306\n",
      "3305\n",
      "3310\n",
      "3311\n",
      "3225\n",
      "3223\n",
      "3236\n",
      "3216\n",
      "3217\n",
      "3215\n",
      "3210\n",
      "3207\n",
      "3209\n",
      "3248\n",
      "3226\n",
      "3224\n",
      "3224\n",
      "3242\n",
      "1\n",
      "3316\n",
      "3315\n",
      "3308\n",
      "3305\n",
      "3251\n",
      "3235\n",
      "3224\n",
      "3226\n",
      "3224\n",
      "3210\n",
      "3221\n",
      "3256\n",
      "3246\n",
      "3255\n",
      "3255\n",
      "3254\n",
      "1\n",
      "3305\n",
      "3316\n",
      "3318\n",
      "3318\n",
      "3302\n",
      "3256\n",
      "3256\n",
      "3256\n",
      "3255\n",
      "3243\n",
      "1\n",
      "2000\n",
      "3257\n",
      "1\n",
      "3241\n",
      "3262\n",
      "3263\n",
      "3263\n",
      "2129\n",
      "3241\n",
      "3242\n",
      "3242\n",
      "3219\n",
      "3261\n",
      "3263\n",
      "3263\n",
      "3263\n",
      "2200\n",
      "2200\n",
      "3200\n",
      "3200\n",
      "2200\n",
      "1\n",
      "3245\n",
      "3264\n",
      "3263\n",
      "3262\n",
      "1900\n",
      "3258\n",
      "3260\n",
      "3263\n",
      "2200\n",
      "3250\n",
      "3262\n",
      "3264\n",
      "3264\n",
      "3263\n",
      "2250\n",
      "2200\n",
      "2200\n",
      "2200\n",
      "2147\n",
      "3267\n",
      "3266\n",
      "2300\n",
      "1800\n",
      "3259\n",
      "3261\n",
      "3244\n",
      "1\n",
      "1\n",
      "3239\n",
      "3231\n",
      "3263\n",
      "3260\n",
      "2343\n",
      "1\n",
      "1\n",
      "1\n",
      "1\n",
      "3261\n",
      "2327\n",
      "1730\n",
      "1800\n",
      "600\n",
      "2200\n",
      "2200\n",
      "1900\n",
      "1\n",
      "1\n",
      "1\n",
      "3248\n",
      "3261\n",
      " /data/gbessardon/ECOCLIMAP-SG/COVER/ecosg_final_map.dir                                                                                                                                                                                                                                                                                                                                                                                                                                                                         \n",
      " /data/gbessardon/laialebdomodis/Uncompress/Uncompressed_LAI/LAI_0105_c.dir                                                                                                                                                                                                                                                                                                                                                                                                                                                      \n",
      " test.dir                                                                                                                                                                                                                                                                                                                                                                                                                                                                                                                        \n",
      " /data/gbessardon/laialebdomodis/Compress/Compressed_LAI/LAI_0105_c.dir                                                                                                                                                                                                                                                                                                                                                                                                                                                          \n",
      "       43200\n",
      "       16800\n",
      " Compress\n"
     ]
    }
   ],
   "source": [
    "# list files to uncompress\n",
    "listdirfiles=[os.path.join(input_directory,f) for f in np.sort(os.listdir(input_directory)) if f.endswith('.dir')]\n",
    "# Get the cover data\n",
    "(dictp,dictecosg,outfn,fncoverlink)=Create_readable_ecosg_cover(input_ecosgcoverpath)\n",
    "# Compress files and return the location\n",
    "Uncompressedlist=[Compressfile(output_end,fn,fncoverlink) for fn in listdirfiles]"
   ]
  },
  {
   "cell_type": "code",
   "execution_count": null,
   "id": "b918b1bc-3fe9-4a63-9d73-f20579e83e58",
   "metadata": {},
   "outputs": [],
   "source": []
  }
 ],
 "metadata": {
  "kernelspec": {
   "display_name": "Python 3 (ipykernel)",
   "language": "python",
   "name": "python3"
  },
  "language_info": {
   "codemirror_mode": {
    "name": "ipython",
    "version": 3
   },
   "file_extension": ".py",
   "mimetype": "text/x-python",
   "name": "python",
   "nbconvert_exporter": "python",
   "pygments_lexer": "ipython3",
   "version": "3.9.6"
  }
 },
 "nbformat": 4,
 "nbformat_minor": 5
}
