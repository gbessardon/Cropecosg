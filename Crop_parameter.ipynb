{
 "cells": [
  {
   "cell_type": "markdown",
   "id": "17f6748a-9bc4-4402-8808-27a782b9c636",
   "metadata": {},
   "source": [
    "# Import Functions"
   ]
  },
  {
   "cell_type": "code",
   "execution_count": 1,
   "id": "02099740-16eb-4bf1-9ff2-2cc3be95e68f",
   "metadata": {},
   "outputs": [],
   "source": [
    "import os\n",
    "import f90nml\n",
    "import pandas as pd\n",
    "import subprocess\n",
    "import sys"
   ]
  },
  {
   "cell_type": "code",
   "execution_count": 2,
   "id": "4e9d0aac-ad36-4b0b-b1dd-a16965c93875",
   "metadata": {},
   "outputs": [],
   "source": [
    "sys.path.insert(0,os.path.join(os.getcwd(),'Crop_parameters'))"
   ]
  },
  {
   "cell_type": "code",
   "execution_count": 3,
   "id": "04a36a75-268d-4f5d-ba16-1254ad7534a1",
   "metadata": {},
   "outputs": [],
   "source": [
    "import Uncompress\n",
    "import Crop_parameters\n",
    "import Compress_ecosg"
   ]
  },
  {
   "cell_type": "markdown",
   "id": "a9567aa9-aab9-4a83-bc76-6c15aca67be1",
   "metadata": {},
   "source": [
    "# Define all functions"
   ]
  },
  {
   "cell_type": "code",
   "execution_count": 4,
   "id": "5c016466-5caf-40a1-86b0-37425b0d99fa",
   "metadata": {},
   "outputs": [],
   "source": [
    "input_directory='/data/gbessardon/ECOCLIMAP-SG/AVS'\n",
    "input_ecosgcoverpath='/data/gbessardon/ECOCLIMAP-SG/COVER/ecosg_final_map.dir'\n",
    "Uncompress_dir='Uncompressed_AVS' \n",
    "xmin=-90\n",
    "xmax=90\n",
    "ymin=-60\n",
    "ymax=80\n",
    "Crop_dir='Cropped_AVS'\n",
    "output_dir='Cropped_compressed_files_AVS'"
   ]
  },
  {
   "cell_type": "markdown",
   "id": "090dfa79-6c0c-4720-a5ef-ae5a7602bf2a",
   "metadata": {},
   "source": [
    "# Function that uncompress crop then recompress a LAI or albedo file"
   ]
  },
  {
   "cell_type": "code",
   "execution_count": 5,
   "id": "d9bbf1c8-d415-41c9-bd0b-7444597e77f3",
   "metadata": {},
   "outputs": [],
   "source": [
    "def alltogether(fn,fncoverlink,output_dir,xmin,xmax,ymin,ymax,\n",
    "                Uncompress_dir='Uncompressed_LAI',Cropped_dir='Cropped_dir'):\n",
    "        Uncompress.Uncompressfile(Uncompress_dir,fn)\n",
    "        Ucfn=os.path.join(os.getcwd(),Uncompress_dir,fn.split('/')[-1])\n",
    "        Crop_parameters.Crop_data(Ucfn,Crop_dir,xmin, ymin, xmax, ymax)\n",
    "        os.remove(Ucfn)\n",
    "        Croppedfn=os.path.join(os.getcwd(),Crop_dir,fn.split('/')[-1])\n",
    "        Compress_ecosg.Compressfile(output_dir,Croppedfn,fncoverlink)\n",
    "        os.remove(Croppedfn)\n",
    "        outputfn=os.path.join(os.getcwd(),output_dir,fn.split('/')[-1])\n",
    "        return(outputfn)\n",
    "    "
   ]
  },
  {
   "cell_type": "code",
   "execution_count": 6,
   "id": "cc2572ad-d96f-4548-bebd-581f8a0f29e5",
   "metadata": {},
   "outputs": [],
   "source": [
    "# list files to uncompress\n",
    "listdirfiles=[os.path.join(input_directory,f) for f in os.listdir(input_directory) if f.endswith('.dir')]"
   ]
  },
  {
   "cell_type": "code",
   "execution_count": 7,
   "id": "07f960d2-3f08-448c-8c38-2600940d62bc",
   "metadata": {},
   "outputs": [],
   "source": [
    "# Import ECO-SG for the compression\n",
    "(dictp,dictecosg,outfn,fncoverlink)=Compress_ecosg.Create_readable_ecosg_cover(input_ecosgcoverpath)"
   ]
  },
  {
   "cell_type": "code",
   "execution_count": null,
   "id": "31dc2840-23f1-4d7f-9627-d3e101fc09c9",
   "metadata": {},
   "outputs": [
    {
     "name": "stdout",
     "output_type": "stream",
     "text": [
      "       21600\n",
      "       16800\n",
      " Compress\n",
      "       50401\n",
      "       64801\n",
      "       21600\n",
      "       16800\n",
      " Compress\n",
      "       50401\n",
      "       64801\n",
      "       21600\n",
      "       16800\n",
      " Compress\n",
      "       50401\n",
      "       64801\n",
      "       21600\n",
      "       16800\n",
      " Compress\n",
      "       50401\n",
      "       64801\n",
      "       21600\n",
      "       16800\n",
      " Compress\n",
      "       50401\n",
      "       64801\n",
      "       21600\n",
      "       16800\n",
      " Compress\n",
      "       50401\n",
      "       64801\n",
      "       21600\n",
      "       16800\n",
      " Compress\n",
      "       50401\n",
      "       64801\n",
      "       21600\n",
      "       16800\n",
      " Compress\n",
      "       50401\n",
      "       64801\n",
      "       21600\n",
      "       16800\n",
      " Compress\n",
      "       50401\n",
      "       64801\n",
      "       21600\n",
      "       16800\n",
      " Compress\n",
      "       50401\n",
      "       64801\n",
      "       21600\n",
      "       16800\n",
      " Compress\n",
      "       50401\n",
      "       64801\n",
      "       21600\n",
      "       16800\n",
      " Compress\n",
      "       50401\n",
      "       64801\n",
      "       21600\n",
      "       16800\n",
      " Compress\n",
      "       50401\n",
      "       64801\n",
      "       21600\n",
      "       16800\n",
      " Compress\n",
      "       50401\n",
      "       64801\n",
      "       21600\n",
      "       16800\n",
      " Compress\n",
      "       50401\n",
      "       64801\n",
      "       21600\n",
      "       16800\n",
      " Compress\n",
      "       50401\n",
      "       64801\n",
      "       21600\n",
      "       16800\n",
      " Compress\n",
      "       50401\n",
      "       64801\n",
      "       21600\n",
      "       16800\n",
      " Compress\n",
      "       50401\n",
      "       64801\n",
      "       21600\n",
      "       16800\n",
      " Compress\n",
      "       50401\n",
      "       64801\n",
      "       21600\n",
      "       16800\n",
      " Compress\n",
      "       50401\n",
      "       64801\n",
      "       21600\n",
      "       16800\n",
      " Compress\n",
      "       50401\n",
      "       64801\n",
      "       21600\n",
      "       16800\n",
      " Compress\n",
      "       50401\n",
      "       64801\n",
      "       21600\n",
      "       16800\n",
      " Compress\n",
      "       50401\n",
      "       64801\n",
      "       21600\n",
      "       16800\n",
      " Compress\n",
      "       50401\n",
      "       64801\n"
     ]
    },
    {
     "name": "stderr",
     "output_type": "stream",
     "text": [
      "ERROR 3: Failed to seek to 3020781600 to read.\n",
      "Warning 1: Unable to save auxiliary information in /data/gbessardon/Crop_ecosg/Cropped_AVS/AVS_DESAG_0615.dir.aux.xml.\n",
      "/data/gbessardon/Crop_ecosg/Crop_parameters/Compress_val.F90:18:0:\n",
      "\n",
      "     call MAKE_COMPRESS_FILE(OUTFILE,COMPRESSED_FILE,NCOL,NLIN)\n",
      " \n",
      "Fatal Error: error writing to /data/gbessardon/cc5lCGYr.s: Disk quota exceeded\n",
      "compilation terminated.\n"
     ]
    },
    {
     "name": "stdout",
     "output_type": "stream",
     "text": [
      "       21600\n",
      "       16800\n",
      " Compress\n"
     ]
    },
    {
     "name": "stderr",
     "output_type": "stream",
     "text": [
      "At line 184 of file /data/gbessardon/Crop_ecosg/Crop_parameters/Compress_val.F90 (unit = 12, file = '/data/gbessardon/Crop_ecosg/Cropped_compressed_files_AVS/AVS_DESAG_0615.dir')\n",
      "Fortran runtime error: Disk quota exceeded\n",
      "\n",
      "Error termination. Backtrace:\n",
      "#0  0x7f57ce50c1aa\n",
      "#1  0x7f57ce50cd19\n",
      "#2  0x7f57ce50d521\n",
      "#3  0x7f57ce713ff7\n",
      "#4  0x7f57ce714137\n",
      "#5  0x7f57ce714c92\n",
      "#6  0x401481\n",
      "#7  0x4018f0\n",
      "#8  0x40245f\n",
      "#9  0x7f57cd970492\n",
      "#10  0x400bcd\n",
      "#11  0xffffffffffffffff\n",
      "ERROR 3: Failed to seek to 3018708000 to read.\n",
      "Warning 1: Unable to save auxiliary information in /data/gbessardon/Crop_ecosg/Cropped_AVS/AVS_DESAG_0625.dir.aux.xml.\n",
      "/data/gbessardon/Crop_ecosg/Crop_parameters/Compress_val.F90:18:0:\n",
      "\n",
      "     call MAKE_COMPRESS_FILE(OUTFILE,COMPRESSED_FILE,NCOL,NLIN)\n",
      " \n",
      "Fatal Error: error writing to /data/gbessardon/ccXVNsnJ.s: Disk quota exceeded\n",
      "compilation terminated.\n"
     ]
    },
    {
     "name": "stdout",
     "output_type": "stream",
     "text": [
      "       21600\n",
      "       16800\n",
      " Compress\n"
     ]
    },
    {
     "name": "stderr",
     "output_type": "stream",
     "text": [
      "At line 184 of file /data/gbessardon/Crop_ecosg/Crop_parameters/Compress_val.F90 (unit = 12, file = '/data/gbessardon/Crop_ecosg/Cropped_compressed_files_AVS/AVS_DESAG_0625.dir')\n",
      "Fortran runtime error: Disk quota exceeded\n",
      "\n",
      "Error termination. Backtrace:\n",
      "#0  0x7f53254cc1aa\n",
      "#1  0x7f53254ccd19\n",
      "#2  0x7f53254cd521\n",
      "#3  0x7f53256d3ff7\n",
      "#4  0x7f53256d4137\n",
      "#5  0x7f53256d4c92\n",
      "#6  0x401481\n",
      "#7  0x4018f0\n",
      "#8  0x40245f\n",
      "#9  0x7f5324930492\n",
      "#10  0x400bcd\n",
      "#11  0xffffffffffffffff\n",
      "ERROR 3: Failed to seek to 3016569600 to read.\n",
      "Warning 1: Unable to save auxiliary information in /data/gbessardon/Crop_ecosg/Cropped_AVS/AVS_DESAG_0705.dir.aux.xml.\n",
      "/data/gbessardon/Crop_ecosg/Crop_parameters/Compress_val.F90:18:0:\n",
      "\n",
      "     call MAKE_COMPRESS_FILE(OUTFILE,COMPRESSED_FILE,NCOL,NLIN)\n",
      " \n",
      "Fatal Error: error writing to /data/gbessardon/ccidM4TA.s: Disk quota exceeded\n",
      "compilation terminated.\n"
     ]
    },
    {
     "name": "stdout",
     "output_type": "stream",
     "text": [
      "       21600\n",
      "       16800\n",
      " Compress\n"
     ]
    },
    {
     "name": "stderr",
     "output_type": "stream",
     "text": [
      "At line 184 of file /data/gbessardon/Crop_ecosg/Crop_parameters/Compress_val.F90 (unit = 12, file = '/data/gbessardon/Crop_ecosg/Cropped_compressed_files_AVS/AVS_DESAG_0705.dir')\n",
      "Fortran runtime error: Disk quota exceeded\n",
      "\n",
      "Error termination. Backtrace:\n",
      "#0  0x7fbbbe50d1aa\n",
      "#1  0x7fbbbe50dd19\n",
      "#2  0x7fbbbe50e521\n",
      "#3  0x7fbbbe714ff7\n",
      "#4  0x7fbbbe715137\n",
      "#5  0x7fbbbe715c92\n",
      "#6  0x401481\n",
      "#7  0x4018f0\n",
      "#8  0x40245f\n",
      "#9  0x7fbbbd971492\n",
      "#10  0x400bcd\n",
      "#11  0xffffffffffffffff\n",
      "ERROR 3: Failed to seek to 3014236800 to read.\n",
      "Warning 1: Unable to save auxiliary information in /data/gbessardon/Crop_ecosg/Cropped_AVS/AVS_DESAG_0715.dir.aux.xml.\n"
     ]
    }
   ],
   "source": [
    "[alltogether(fn,fncoverlink,output_dir,xmin,xmax,ymin,ymax) for fn in listdirfiles]"
   ]
  }
 ],
 "metadata": {
  "kernelspec": {
   "display_name": "Python 3 (ipykernel)",
   "language": "python",
   "name": "python3"
  },
  "language_info": {
   "codemirror_mode": {
    "name": "ipython",
    "version": 3
   },
   "file_extension": ".py",
   "mimetype": "text/x-python",
   "name": "python",
   "nbconvert_exporter": "python",
   "pygments_lexer": "ipython3",
   "version": "3.9.6"
  }
 },
 "nbformat": 4,
 "nbformat_minor": 5
}
