{
 "cells": [
  {
   "cell_type": "markdown",
   "id": "17f6748a-9bc4-4402-8808-27a782b9c636",
   "metadata": {},
   "source": [
    "# Import Functions"
   ]
  },
  {
   "cell_type": "code",
   "execution_count": 1,
   "id": "02099740-16eb-4bf1-9ff2-2cc3be95e68f",
   "metadata": {},
   "outputs": [],
   "source": [
    "import os\n",
    "import f90nml\n",
    "import pandas as pd\n",
    "import subprocess\n",
    "import sys"
   ]
  },
  {
   "cell_type": "code",
   "execution_count": 2,
   "id": "4e9d0aac-ad36-4b0b-b1dd-a16965c93875",
   "metadata": {},
   "outputs": [],
   "source": [
    "sys.path.insert(0,os.path.join(os.getcwd(),'Crop_parameters'))"
   ]
  },
  {
   "cell_type": "code",
   "execution_count": 3,
   "id": "04a36a75-268d-4f5d-ba16-1254ad7534a1",
   "metadata": {},
   "outputs": [],
   "source": [
    "import Uncompress\n",
    "import Crop_parameters\n",
    "import Compress_ecosg"
   ]
  },
  {
   "cell_type": "markdown",
   "id": "a9567aa9-aab9-4a83-bc76-6c15aca67be1",
   "metadata": {},
   "source": [
    "# Define all functions"
   ]
  },
  {
   "cell_type": "code",
   "execution_count": 4,
   "id": "5c016466-5caf-40a1-86b0-37425b0d99fa",
   "metadata": {},
   "outputs": [],
   "source": [
    "input_directory='/data/gbessardon/ECOCLIMAP-SG/LAI/300M'\n",
    "input_ecosgcoverpath='/data/gbessardon/ECOCLIMAP-SG/COVER/ecosg_final_map.dir'\n",
    "Uncompress_dir='Uncompressed_AVS' \n",
    "xmin=-90\n",
    "xmax=90\n",
    "ymin=-60\n",
    "ymax=80\n",
    "Crop_dir='Cropped_LAI'\n",
    "output_dir='Cropped_compressed_LAI'"
   ]
  },
  {
   "cell_type": "markdown",
   "id": "090dfa79-6c0c-4720-a5ef-ae5a7602bf2a",
   "metadata": {},
   "source": [
    "# Function that uncompress crop then recompress a LAI or albedo file"
   ]
  },
  {
   "cell_type": "code",
   "execution_count": 5,
   "id": "d9bbf1c8-d415-41c9-bd0b-7444597e77f3",
   "metadata": {},
   "outputs": [],
   "source": [
    "def alltogether(fn,fncoverlink,output_dir,xmin,xmax,ymin,ymax,\n",
    "                Uncompress_dir='Uncompressed_LAI',Cropped_dir='Cropped_dir'):\n",
    "        Uncompress.Uncompressfile(Uncompress_dir,fn)\n",
    "        Ucfn=os.path.join(os.getcwd(),Uncompress_dir,fn.split('/')[-1])\n",
    "        Crop_parameters.Crop_data_rasterio(Ucfn,Crop_dir,xmin, ymin, xmax, ymax)\n",
    "        os.remove(Ucfn)\n",
    "        Croppedfn=os.path.join(os.getcwd(),Crop_dir,fn.split('/')[-1])\n",
    "        Compress_ecosg.Compressfile(output_dir,Croppedfn,fncoverlink)\n",
    "        os.remove(Croppedfn)\n",
    "        outputfn=os.path.join(os.getcwd(),output_dir,fn.split('/')[-1])\n",
    "        return(outputfn)\n",
    "    "
   ]
  },
  {
   "cell_type": "code",
   "execution_count": 6,
   "id": "cc2572ad-d96f-4548-bebd-581f8a0f29e5",
   "metadata": {},
   "outputs": [],
   "source": [
    "# list files to uncompress\n",
    "listdirfiles=[os.path.join(input_directory,f) for f in os.listdir(input_directory) if f.endswith('.dir')]"
   ]
  },
  {
   "cell_type": "code",
   "execution_count": 7,
   "id": "07f960d2-3f08-448c-8c38-2600940d62bc",
   "metadata": {},
   "outputs": [],
   "source": [
    "# Import ECO-SG for the compression\n",
    "(dictp,dictecosg,outfn,fncoverlink)=Compress_ecosg.Create_readable_ecosg_cover(input_ecosgcoverpath)"
   ]
  },
  {
   "cell_type": "code",
   "execution_count": 8,
   "id": "31dc2840-23f1-4d7f-9627-d3e101fc09c9",
   "metadata": {},
   "outputs": [
    {
     "name": "stdout",
     "output_type": "stream",
     "text": [
      "       21600\n",
      "       16800\n",
      " Compress\n",
      "       50401\n",
      "       64801\n",
      "       21600\n",
      "       16800\n",
      " Compress\n",
      "       50401\n",
      "       64801\n"
     ]
    },
    {
     "data": {
      "text/plain": [
       "['/data/gbessardon/Crop_ecosg/Cropped_compressed_LAI/LAI_0905_c.dir',\n",
       " '/data/gbessardon/Crop_ecosg/Cropped_compressed_LAI/LAI_0105_c.dir']"
      ]
     },
     "execution_count": 8,
     "metadata": {},
     "output_type": "execute_result"
    }
   ],
   "source": [
    "[alltogether(fn,fncoverlink,output_dir,xmin,xmax,ymin,ymax) for fn in listdirfiles]"
   ]
  }
 ],
 "metadata": {
  "kernelspec": {
   "display_name": "Python 3 (ipykernel)",
   "language": "python",
   "name": "python3"
  },
  "language_info": {
   "codemirror_mode": {
    "name": "ipython",
    "version": 3
   },
   "file_extension": ".py",
   "mimetype": "text/x-python",
   "name": "python",
   "nbconvert_exporter": "python",
   "pygments_lexer": "ipython3",
   "version": "3.9.6"
  }
 },
 "nbformat": 4,
 "nbformat_minor": 5
}
